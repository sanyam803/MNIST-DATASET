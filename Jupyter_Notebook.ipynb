{
 "cells": [
  {
   "cell_type": "code",
   "execution_count": 7,
   "metadata": {
    "collapsed": true
   },
   "outputs": [],
   "source": [
    "import pandas as pd\n",
    "import numpy as np\n",
    "import matplotlib.pyplot as plt\n",
    "import pickle\n",
    "import tensorflow as tf\n",
    "from os.path import isfile, isdir\n",
    "from sklearn.model_selection import train_test_split\n",
    "% matplotlib inline\n"
   ]
  },
  {
   "cell_type": "code",
   "execution_count": 8,
   "metadata": {},
   "outputs": [
    {
     "name": "stdout",
     "output_type": "stream",
     "text": [
      "C:\\Users\\SANYAM\\Documents\\mnist_dataset\n"
     ]
    }
   ],
   "source": [
    "cd C:\\Users\\SANYAM\\Documents\\mnist_dataset"
   ]
  },
  {
   "cell_type": "code",
   "execution_count": 9,
   "metadata": {},
   "outputs": [],
   "source": [
    "train=pd.read_csv('train.csv')\n",
    "test=pd.read_csv('test.csv')"
   ]
  },
  {
   "cell_type": "code",
   "execution_count": 10,
   "metadata": {},
   "outputs": [
    {
     "data": {
      "text/html": [
       "<div>\n",
       "<table border=\"1\" class=\"dataframe\">\n",
       "  <thead>\n",
       "    <tr style=\"text-align: right;\">\n",
       "      <th></th>\n",
       "      <th>label</th>\n",
       "      <th>pixel0</th>\n",
       "      <th>pixel1</th>\n",
       "      <th>pixel2</th>\n",
       "      <th>pixel3</th>\n",
       "      <th>pixel4</th>\n",
       "      <th>pixel5</th>\n",
       "      <th>pixel6</th>\n",
       "      <th>pixel7</th>\n",
       "      <th>pixel8</th>\n",
       "      <th>...</th>\n",
       "      <th>pixel774</th>\n",
       "      <th>pixel775</th>\n",
       "      <th>pixel776</th>\n",
       "      <th>pixel777</th>\n",
       "      <th>pixel778</th>\n",
       "      <th>pixel779</th>\n",
       "      <th>pixel780</th>\n",
       "      <th>pixel781</th>\n",
       "      <th>pixel782</th>\n",
       "      <th>pixel783</th>\n",
       "    </tr>\n",
       "  </thead>\n",
       "  <tbody>\n",
       "    <tr>\n",
       "      <th>count</th>\n",
       "      <td>42000.000000</td>\n",
       "      <td>42000.0</td>\n",
       "      <td>42000.0</td>\n",
       "      <td>42000.0</td>\n",
       "      <td>42000.0</td>\n",
       "      <td>42000.0</td>\n",
       "      <td>42000.0</td>\n",
       "      <td>42000.0</td>\n",
       "      <td>42000.0</td>\n",
       "      <td>42000.0</td>\n",
       "      <td>...</td>\n",
       "      <td>42000.000000</td>\n",
       "      <td>42000.000000</td>\n",
       "      <td>42000.000000</td>\n",
       "      <td>42000.00000</td>\n",
       "      <td>42000.000000</td>\n",
       "      <td>42000.000000</td>\n",
       "      <td>42000.0</td>\n",
       "      <td>42000.0</td>\n",
       "      <td>42000.0</td>\n",
       "      <td>42000.0</td>\n",
       "    </tr>\n",
       "    <tr>\n",
       "      <th>mean</th>\n",
       "      <td>4.456643</td>\n",
       "      <td>0.0</td>\n",
       "      <td>0.0</td>\n",
       "      <td>0.0</td>\n",
       "      <td>0.0</td>\n",
       "      <td>0.0</td>\n",
       "      <td>0.0</td>\n",
       "      <td>0.0</td>\n",
       "      <td>0.0</td>\n",
       "      <td>0.0</td>\n",
       "      <td>...</td>\n",
       "      <td>0.219286</td>\n",
       "      <td>0.117095</td>\n",
       "      <td>0.059024</td>\n",
       "      <td>0.02019</td>\n",
       "      <td>0.017238</td>\n",
       "      <td>0.002857</td>\n",
       "      <td>0.0</td>\n",
       "      <td>0.0</td>\n",
       "      <td>0.0</td>\n",
       "      <td>0.0</td>\n",
       "    </tr>\n",
       "    <tr>\n",
       "      <th>std</th>\n",
       "      <td>2.887730</td>\n",
       "      <td>0.0</td>\n",
       "      <td>0.0</td>\n",
       "      <td>0.0</td>\n",
       "      <td>0.0</td>\n",
       "      <td>0.0</td>\n",
       "      <td>0.0</td>\n",
       "      <td>0.0</td>\n",
       "      <td>0.0</td>\n",
       "      <td>0.0</td>\n",
       "      <td>...</td>\n",
       "      <td>6.312890</td>\n",
       "      <td>4.633819</td>\n",
       "      <td>3.274488</td>\n",
       "      <td>1.75987</td>\n",
       "      <td>1.894498</td>\n",
       "      <td>0.414264</td>\n",
       "      <td>0.0</td>\n",
       "      <td>0.0</td>\n",
       "      <td>0.0</td>\n",
       "      <td>0.0</td>\n",
       "    </tr>\n",
       "    <tr>\n",
       "      <th>min</th>\n",
       "      <td>0.000000</td>\n",
       "      <td>0.0</td>\n",
       "      <td>0.0</td>\n",
       "      <td>0.0</td>\n",
       "      <td>0.0</td>\n",
       "      <td>0.0</td>\n",
       "      <td>0.0</td>\n",
       "      <td>0.0</td>\n",
       "      <td>0.0</td>\n",
       "      <td>0.0</td>\n",
       "      <td>...</td>\n",
       "      <td>0.000000</td>\n",
       "      <td>0.000000</td>\n",
       "      <td>0.000000</td>\n",
       "      <td>0.00000</td>\n",
       "      <td>0.000000</td>\n",
       "      <td>0.000000</td>\n",
       "      <td>0.0</td>\n",
       "      <td>0.0</td>\n",
       "      <td>0.0</td>\n",
       "      <td>0.0</td>\n",
       "    </tr>\n",
       "    <tr>\n",
       "      <th>25%</th>\n",
       "      <td>2.000000</td>\n",
       "      <td>0.0</td>\n",
       "      <td>0.0</td>\n",
       "      <td>0.0</td>\n",
       "      <td>0.0</td>\n",
       "      <td>0.0</td>\n",
       "      <td>0.0</td>\n",
       "      <td>0.0</td>\n",
       "      <td>0.0</td>\n",
       "      <td>0.0</td>\n",
       "      <td>...</td>\n",
       "      <td>0.000000</td>\n",
       "      <td>0.000000</td>\n",
       "      <td>0.000000</td>\n",
       "      <td>0.00000</td>\n",
       "      <td>0.000000</td>\n",
       "      <td>0.000000</td>\n",
       "      <td>0.0</td>\n",
       "      <td>0.0</td>\n",
       "      <td>0.0</td>\n",
       "      <td>0.0</td>\n",
       "    </tr>\n",
       "    <tr>\n",
       "      <th>50%</th>\n",
       "      <td>4.000000</td>\n",
       "      <td>0.0</td>\n",
       "      <td>0.0</td>\n",
       "      <td>0.0</td>\n",
       "      <td>0.0</td>\n",
       "      <td>0.0</td>\n",
       "      <td>0.0</td>\n",
       "      <td>0.0</td>\n",
       "      <td>0.0</td>\n",
       "      <td>0.0</td>\n",
       "      <td>...</td>\n",
       "      <td>0.000000</td>\n",
       "      <td>0.000000</td>\n",
       "      <td>0.000000</td>\n",
       "      <td>0.00000</td>\n",
       "      <td>0.000000</td>\n",
       "      <td>0.000000</td>\n",
       "      <td>0.0</td>\n",
       "      <td>0.0</td>\n",
       "      <td>0.0</td>\n",
       "      <td>0.0</td>\n",
       "    </tr>\n",
       "    <tr>\n",
       "      <th>75%</th>\n",
       "      <td>7.000000</td>\n",
       "      <td>0.0</td>\n",
       "      <td>0.0</td>\n",
       "      <td>0.0</td>\n",
       "      <td>0.0</td>\n",
       "      <td>0.0</td>\n",
       "      <td>0.0</td>\n",
       "      <td>0.0</td>\n",
       "      <td>0.0</td>\n",
       "      <td>0.0</td>\n",
       "      <td>...</td>\n",
       "      <td>0.000000</td>\n",
       "      <td>0.000000</td>\n",
       "      <td>0.000000</td>\n",
       "      <td>0.00000</td>\n",
       "      <td>0.000000</td>\n",
       "      <td>0.000000</td>\n",
       "      <td>0.0</td>\n",
       "      <td>0.0</td>\n",
       "      <td>0.0</td>\n",
       "      <td>0.0</td>\n",
       "    </tr>\n",
       "    <tr>\n",
       "      <th>max</th>\n",
       "      <td>9.000000</td>\n",
       "      <td>0.0</td>\n",
       "      <td>0.0</td>\n",
       "      <td>0.0</td>\n",
       "      <td>0.0</td>\n",
       "      <td>0.0</td>\n",
       "      <td>0.0</td>\n",
       "      <td>0.0</td>\n",
       "      <td>0.0</td>\n",
       "      <td>0.0</td>\n",
       "      <td>...</td>\n",
       "      <td>254.000000</td>\n",
       "      <td>254.000000</td>\n",
       "      <td>253.000000</td>\n",
       "      <td>253.00000</td>\n",
       "      <td>254.000000</td>\n",
       "      <td>62.000000</td>\n",
       "      <td>0.0</td>\n",
       "      <td>0.0</td>\n",
       "      <td>0.0</td>\n",
       "      <td>0.0</td>\n",
       "    </tr>\n",
       "  </tbody>\n",
       "</table>\n",
       "<p>8 rows × 785 columns</p>\n",
       "</div>"
      ],
      "text/plain": [
       "              label   pixel0   pixel1   pixel2   pixel3   pixel4   pixel5  \\\n",
       "count  42000.000000  42000.0  42000.0  42000.0  42000.0  42000.0  42000.0   \n",
       "mean       4.456643      0.0      0.0      0.0      0.0      0.0      0.0   \n",
       "std        2.887730      0.0      0.0      0.0      0.0      0.0      0.0   \n",
       "min        0.000000      0.0      0.0      0.0      0.0      0.0      0.0   \n",
       "25%        2.000000      0.0      0.0      0.0      0.0      0.0      0.0   \n",
       "50%        4.000000      0.0      0.0      0.0      0.0      0.0      0.0   \n",
       "75%        7.000000      0.0      0.0      0.0      0.0      0.0      0.0   \n",
       "max        9.000000      0.0      0.0      0.0      0.0      0.0      0.0   \n",
       "\n",
       "        pixel6   pixel7   pixel8    ...         pixel774      pixel775  \\\n",
       "count  42000.0  42000.0  42000.0    ...     42000.000000  42000.000000   \n",
       "mean       0.0      0.0      0.0    ...         0.219286      0.117095   \n",
       "std        0.0      0.0      0.0    ...         6.312890      4.633819   \n",
       "min        0.0      0.0      0.0    ...         0.000000      0.000000   \n",
       "25%        0.0      0.0      0.0    ...         0.000000      0.000000   \n",
       "50%        0.0      0.0      0.0    ...         0.000000      0.000000   \n",
       "75%        0.0      0.0      0.0    ...         0.000000      0.000000   \n",
       "max        0.0      0.0      0.0    ...       254.000000    254.000000   \n",
       "\n",
       "           pixel776     pixel777      pixel778      pixel779  pixel780  \\\n",
       "count  42000.000000  42000.00000  42000.000000  42000.000000   42000.0   \n",
       "mean       0.059024      0.02019      0.017238      0.002857       0.0   \n",
       "std        3.274488      1.75987      1.894498      0.414264       0.0   \n",
       "min        0.000000      0.00000      0.000000      0.000000       0.0   \n",
       "25%        0.000000      0.00000      0.000000      0.000000       0.0   \n",
       "50%        0.000000      0.00000      0.000000      0.000000       0.0   \n",
       "75%        0.000000      0.00000      0.000000      0.000000       0.0   \n",
       "max      253.000000    253.00000    254.000000     62.000000       0.0   \n",
       "\n",
       "       pixel781  pixel782  pixel783  \n",
       "count   42000.0   42000.0   42000.0  \n",
       "mean        0.0       0.0       0.0  \n",
       "std         0.0       0.0       0.0  \n",
       "min         0.0       0.0       0.0  \n",
       "25%         0.0       0.0       0.0  \n",
       "50%         0.0       0.0       0.0  \n",
       "75%         0.0       0.0       0.0  \n",
       "max         0.0       0.0       0.0  \n",
       "\n",
       "[8 rows x 785 columns]"
      ]
     },
     "execution_count": 10,
     "metadata": {},
     "output_type": "execute_result"
    }
   ],
   "source": [
    "(train.shape,test.shape)\n",
    "train.describe()"
   ]
  },
  {
   "cell_type": "code",
   "execution_count": 11,
   "metadata": {
    "collapsed": true
   },
   "outputs": [],
   "source": [
    "df=train.copy()"
   ]
  },
  {
   "cell_type": "code",
   "execution_count": 12,
   "metadata": {},
   "outputs": [
    {
     "data": {
      "text/html": [
       "<div>\n",
       "<table border=\"1\" class=\"dataframe\">\n",
       "  <thead>\n",
       "    <tr style=\"text-align: right;\">\n",
       "      <th></th>\n",
       "      <th>label</th>\n",
       "      <th>pixel0</th>\n",
       "      <th>pixel1</th>\n",
       "      <th>pixel2</th>\n",
       "      <th>pixel3</th>\n",
       "      <th>pixel4</th>\n",
       "      <th>pixel5</th>\n",
       "      <th>pixel6</th>\n",
       "      <th>pixel7</th>\n",
       "      <th>pixel8</th>\n",
       "      <th>...</th>\n",
       "      <th>pixel774</th>\n",
       "      <th>pixel775</th>\n",
       "      <th>pixel776</th>\n",
       "      <th>pixel777</th>\n",
       "      <th>pixel778</th>\n",
       "      <th>pixel779</th>\n",
       "      <th>pixel780</th>\n",
       "      <th>pixel781</th>\n",
       "      <th>pixel782</th>\n",
       "      <th>pixel783</th>\n",
       "    </tr>\n",
       "  </thead>\n",
       "  <tbody>\n",
       "    <tr>\n",
       "      <th>0</th>\n",
       "      <td>1</td>\n",
       "      <td>0</td>\n",
       "      <td>0</td>\n",
       "      <td>0</td>\n",
       "      <td>0</td>\n",
       "      <td>0</td>\n",
       "      <td>0</td>\n",
       "      <td>0</td>\n",
       "      <td>0</td>\n",
       "      <td>0</td>\n",
       "      <td>...</td>\n",
       "      <td>0</td>\n",
       "      <td>0</td>\n",
       "      <td>0</td>\n",
       "      <td>0</td>\n",
       "      <td>0</td>\n",
       "      <td>0</td>\n",
       "      <td>0</td>\n",
       "      <td>0</td>\n",
       "      <td>0</td>\n",
       "      <td>0</td>\n",
       "    </tr>\n",
       "    <tr>\n",
       "      <th>1</th>\n",
       "      <td>0</td>\n",
       "      <td>0</td>\n",
       "      <td>0</td>\n",
       "      <td>0</td>\n",
       "      <td>0</td>\n",
       "      <td>0</td>\n",
       "      <td>0</td>\n",
       "      <td>0</td>\n",
       "      <td>0</td>\n",
       "      <td>0</td>\n",
       "      <td>...</td>\n",
       "      <td>0</td>\n",
       "      <td>0</td>\n",
       "      <td>0</td>\n",
       "      <td>0</td>\n",
       "      <td>0</td>\n",
       "      <td>0</td>\n",
       "      <td>0</td>\n",
       "      <td>0</td>\n",
       "      <td>0</td>\n",
       "      <td>0</td>\n",
       "    </tr>\n",
       "    <tr>\n",
       "      <th>2</th>\n",
       "      <td>1</td>\n",
       "      <td>0</td>\n",
       "      <td>0</td>\n",
       "      <td>0</td>\n",
       "      <td>0</td>\n",
       "      <td>0</td>\n",
       "      <td>0</td>\n",
       "      <td>0</td>\n",
       "      <td>0</td>\n",
       "      <td>0</td>\n",
       "      <td>...</td>\n",
       "      <td>0</td>\n",
       "      <td>0</td>\n",
       "      <td>0</td>\n",
       "      <td>0</td>\n",
       "      <td>0</td>\n",
       "      <td>0</td>\n",
       "      <td>0</td>\n",
       "      <td>0</td>\n",
       "      <td>0</td>\n",
       "      <td>0</td>\n",
       "    </tr>\n",
       "    <tr>\n",
       "      <th>3</th>\n",
       "      <td>4</td>\n",
       "      <td>0</td>\n",
       "      <td>0</td>\n",
       "      <td>0</td>\n",
       "      <td>0</td>\n",
       "      <td>0</td>\n",
       "      <td>0</td>\n",
       "      <td>0</td>\n",
       "      <td>0</td>\n",
       "      <td>0</td>\n",
       "      <td>...</td>\n",
       "      <td>0</td>\n",
       "      <td>0</td>\n",
       "      <td>0</td>\n",
       "      <td>0</td>\n",
       "      <td>0</td>\n",
       "      <td>0</td>\n",
       "      <td>0</td>\n",
       "      <td>0</td>\n",
       "      <td>0</td>\n",
       "      <td>0</td>\n",
       "    </tr>\n",
       "    <tr>\n",
       "      <th>4</th>\n",
       "      <td>0</td>\n",
       "      <td>0</td>\n",
       "      <td>0</td>\n",
       "      <td>0</td>\n",
       "      <td>0</td>\n",
       "      <td>0</td>\n",
       "      <td>0</td>\n",
       "      <td>0</td>\n",
       "      <td>0</td>\n",
       "      <td>0</td>\n",
       "      <td>...</td>\n",
       "      <td>0</td>\n",
       "      <td>0</td>\n",
       "      <td>0</td>\n",
       "      <td>0</td>\n",
       "      <td>0</td>\n",
       "      <td>0</td>\n",
       "      <td>0</td>\n",
       "      <td>0</td>\n",
       "      <td>0</td>\n",
       "      <td>0</td>\n",
       "    </tr>\n",
       "    <tr>\n",
       "      <th>5</th>\n",
       "      <td>0</td>\n",
       "      <td>0</td>\n",
       "      <td>0</td>\n",
       "      <td>0</td>\n",
       "      <td>0</td>\n",
       "      <td>0</td>\n",
       "      <td>0</td>\n",
       "      <td>0</td>\n",
       "      <td>0</td>\n",
       "      <td>0</td>\n",
       "      <td>...</td>\n",
       "      <td>0</td>\n",
       "      <td>0</td>\n",
       "      <td>0</td>\n",
       "      <td>0</td>\n",
       "      <td>0</td>\n",
       "      <td>0</td>\n",
       "      <td>0</td>\n",
       "      <td>0</td>\n",
       "      <td>0</td>\n",
       "      <td>0</td>\n",
       "    </tr>\n",
       "  </tbody>\n",
       "</table>\n",
       "<p>6 rows × 785 columns</p>\n",
       "</div>"
      ],
      "text/plain": [
       "   label  pixel0  pixel1  pixel2  pixel3  pixel4  pixel5  pixel6  pixel7  \\\n",
       "0      1       0       0       0       0       0       0       0       0   \n",
       "1      0       0       0       0       0       0       0       0       0   \n",
       "2      1       0       0       0       0       0       0       0       0   \n",
       "3      4       0       0       0       0       0       0       0       0   \n",
       "4      0       0       0       0       0       0       0       0       0   \n",
       "5      0       0       0       0       0       0       0       0       0   \n",
       "\n",
       "   pixel8    ...     pixel774  pixel775  pixel776  pixel777  pixel778  \\\n",
       "0       0    ...            0         0         0         0         0   \n",
       "1       0    ...            0         0         0         0         0   \n",
       "2       0    ...            0         0         0         0         0   \n",
       "3       0    ...            0         0         0         0         0   \n",
       "4       0    ...            0         0         0         0         0   \n",
       "5       0    ...            0         0         0         0         0   \n",
       "\n",
       "   pixel779  pixel780  pixel781  pixel782  pixel783  \n",
       "0         0         0         0         0         0  \n",
       "1         0         0         0         0         0  \n",
       "2         0         0         0         0         0  \n",
       "3         0         0         0         0         0  \n",
       "4         0         0         0         0         0  \n",
       "5         0         0         0         0         0  \n",
       "\n",
       "[6 rows x 785 columns]"
      ]
     },
     "execution_count": 12,
     "metadata": {},
     "output_type": "execute_result"
    }
   ],
   "source": [
    "df.head(n=6)"
   ]
  },
  {
   "cell_type": "code",
   "execution_count": 13,
   "metadata": {},
   "outputs": [
    {
     "data": {
      "text/plain": [
       "(42000, 785)"
      ]
     },
     "execution_count": 13,
     "metadata": {},
     "output_type": "execute_result"
    }
   ],
   "source": [
    "np.shape(train)"
   ]
  },
  {
   "cell_type": "code",
   "execution_count": 14,
   "metadata": {},
   "outputs": [
    {
     "data": {
      "text/plain": [
       "(28000, 784)"
      ]
     },
     "execution_count": 14,
     "metadata": {},
     "output_type": "execute_result"
    }
   ],
   "source": [
    "np.shape(test)"
   ]
  },
  {
   "cell_type": "code",
   "execution_count": 15,
   "metadata": {},
   "outputs": [
    {
     "data": {
      "text/plain": [
       "0    4132\n",
       "1    4684\n",
       "2    4177\n",
       "3    4351\n",
       "4    4072\n",
       "5    3795\n",
       "6    4137\n",
       "7    4401\n",
       "8    4063\n",
       "9    4188\n",
       "Name: label, dtype: int64"
      ]
     },
     "execution_count": 15,
     "metadata": {},
     "output_type": "execute_result"
    }
   ],
   "source": [
    "unique_labels_counts=train['label'].value_counts(sort=False)\n",
    "unique_labels_counts"
   ]
  },
  {
   "cell_type": "code",
   "execution_count": 16,
   "metadata": {
    "collapsed": true
   },
   "outputs": [],
   "source": [
    "?tf.cond()"
   ]
  },
  {
   "cell_type": "code",
   "execution_count": 17,
   "metadata": {},
   "outputs": [
    {
     "data": {
      "text/plain": [
       "(42000, 784)"
      ]
     },
     "execution_count": 17,
     "metadata": {},
     "output_type": "execute_result"
    }
   ],
   "source": [
    "# casting to numpy array\n",
    "train_Data=train.values[:,1:];\n",
    "train_Labels=train.values[:,0];\n",
    "test_Data=test.values[:,1:];\n",
    "test_Labels=test.values[:,0];\n",
    "test_Data.shape\n",
    "train_Data.shape"
   ]
  },
  {
   "cell_type": "code",
   "execution_count": 18,
   "metadata": {
    "collapsed": true
   },
   "outputs": [],
   "source": [
    "def preprocessing_data(data):\n",
    "    '''\n",
    "    min -max scaling for every image\n",
    "    data : numpy array\n",
    "    output : scaled numpy array\n",
    "    '''\n",
    "    minV=0;\n",
    "    maxV=255;\n",
    "    data=(data-minV)/(maxV-minV);\n",
    "    return data;\n"
   ]
  },
  {
   "cell_type": "code",
   "execution_count": 19,
   "metadata": {
    "collapsed": true
   },
   "outputs": [],
   "source": [
    "def one_hot_encoding(data, numberOfClass):\n",
    "    from sklearn import preprocessing\n",
    "    lb = preprocessing.LabelBinarizer()\n",
    "    lb.fit(range(numberOfClass))\n",
    "    return lb.transform(data)\n",
    "    "
   ]
  },
  {
   "cell_type": "code",
   "execution_count": 20,
   "metadata": {},
   "outputs": [
    {
     "data": {
      "text/plain": [
       "(42000, 784)"
      ]
     },
     "execution_count": 20,
     "metadata": {},
     "output_type": "execute_result"
    }
   ],
   "source": [
    "processedTrainData = preprocessing_data(train_Data)\n",
    "processedTestData = preprocessing_data(test_Data)\n",
    "one_hot_trainLabel = one_hot_encoding(train_Labels, 10);\n",
    "one_hot_testLabel = one_hot_encoding(test_Labels, 10);\n",
    "processedTrainData.shape"
   ]
  },
  {
   "cell_type": "markdown",
   "metadata": {},
   "source": [
    "# Building Neural Network With Tensorflow"
   ]
  },
  {
   "cell_type": "code",
   "execution_count": 36,
   "metadata": {
    "collapsed": true
   },
   "outputs": [],
   "source": [
    "def initializer_parameters(features,weight_nodes,g):\n",
    "    \"\"\"\"\n",
    "    Initializes parameters to build a neural network with tensorflow\n",
    "                       \n",
    "    Returns:\n",
    "    parameters -- a dictionary of tensors containing W1, b1, W2, b2, W3, b3\n",
    "    \"\"\"\n",
    "    with  g.as_default():\n",
    "        W1=tf.get_variable(\"W1\",initializer = tf.contrib.layers.xavier_initializer(seed = 1),shape=(features,weight_nodes[0]));\n",
    "        W2=tf.get_variable(\"W2\",initializer = tf.contrib.layers.xavier_initializer(seed = 1),shape=(weight_nodes[0],weight_nodes[1]));\n",
    "        W3=tf.get_variable(\"W3\",initializer = tf.contrib.layers.xavier_initializer(seed = 1),shape=(weight_nodes[1],weight_nodes[2]));\n",
    "        b1 = tf.get_variable(\"b1\", shape=(1,weight_nodes[0]), initializer = tf.zeros_initializer());\n",
    "        b2 = tf.get_variable(\"b2\", shape=(1,weight_nodes[1]), initializer = tf.zeros_initializer())\n",
    "        b3 = tf.get_variable(\"b3\", shape=(1,weight_nodes[2]), initializer = tf.zeros_initializer());\n",
    "        parameters1={};\n",
    "        parameters1[\"W1\"]=W1;\n",
    "        parameters1[\"W2\"]=W2;\n",
    "        parameters1[\"W3\"]=W3;\n",
    "        parameters1[\"b1\"]=b1;\n",
    "        parameters1[\"b2\"]=b2;\n",
    "        parameters1[\"b3\"]=b3;\n",
    "    return parameters1"
   ]
  },
  {
   "cell_type": "code",
   "execution_count": 22,
   "metadata": {
    "collapsed": true
   },
   "outputs": [],
   "source": [
    "def create_placeholder(features,classes,g):\n",
    "    \"\"\"\"\n",
    "    Creates the placeholders for the tensorflow session.\n",
    "  \n",
    "    \n",
    "    Returns:\n",
    "    X -- placeholder for the data input, of shape [None, features] and dtype \"float\"\n",
    "    Y -- placeholder for the input labels, of shape [None,classes] and dtype \"float\"\"\n",
    "    \"\"\"\n",
    "    with g.as_default():\n",
    "        X1 = tf.placeholder(dtype=tf.float32,shape=(None,features));\n",
    "        Y1= tf.placeholder(dtype=tf.float32,shape=(None,classes));\n",
    "        keep_prob = tf.placeholder(dtype = tf.float32,name=\"keep_prob\");\n",
    "        l2_regulization=tf.placeholder(dtype=tf.int32,name=\"l2\");\n",
    "    return X1,Y1,keep_prob,l2_regulization"
   ]
  },
  {
   "cell_type": "code",
   "execution_count": 23,
   "metadata": {
    "collapsed": true
   },
   "outputs": [],
   "source": [
    "def forward_propogation(parameters,X,g,keep_prob):\n",
    "    \"\"\"\n",
    "    Implements the forward propagation for the model: LINEAR -> RELU -> LINEAR -> RELU -> LINEAR \n",
    "    \n",
    "    Arguments:\n",
    "    X -- input dataset placeholder, of shape (input size, number of examples)\n",
    "    parameters -- python dictionary containing  parameters \"W1\", \"b1\", \"W2\", \"b2\", \"W3\", \"b3\"\n",
    "                  the shapes are given in initialize_parameters\n",
    "    g --current graph\n",
    "    keep_prob -- placeholder for keep_probability\n",
    "    Returns:\n",
    "    Z3 -- the output of the last LINEAR unit\n",
    "    \"\"\"\n",
    "    with g.as_default(): \n",
    "        W1=parameters[\"W1\"];\n",
    "        W2=parameters[\"W2\"];\n",
    "        W3=parameters[\"W3\"];\n",
    "        b1=parameters[\"b1\"];\n",
    "        b2=parameters[\"b2\"];\n",
    "        b3=parameters[\"b3\"];\n",
    "     # 1 layer\n",
    "        Z1=tf.add(tf.matmul(X,W1),b1);\n",
    "        A1=tf.nn.relu(Z1);\n",
    "        A1_drop=tf.nn.dropout(A1,keep_prob);\n",
    "     # 2 layer\n",
    "        Z2=tf.add(tf.matmul(A1_drop,W2),b2);\n",
    "        A2=tf.nn.relu(Z2);\n",
    "        A2_drop=tf.nn.dropout(A2,keep_prob);\n",
    "     # 3 layer\n",
    "        Z3=tf.add(tf.matmul(A2_drop,W3),b3);\n",
    "    return Z3;"
   ]
  },
  {
   "cell_type": "code",
   "execution_count": 72,
   "metadata": {
    "collapsed": true
   },
   "outputs": [],
   "source": [
    "def printResult(epoch,numberOfEpoch,trainLoss,validationLoss,validationAccuracy,g,train_accuracy):\n",
    "    with g.as_default():\n",
    "        print(\"Epoch: {}/{}\".format(epoch+1, numberOfEpoch),\n",
    "         '\\tTraining Loss: {:.3f}'.format(trainLoss),\n",
    "          '\\t Training_Accuracy{:.3f}%'.format(train_accuracy*100),    \n",
    "         '\\tValidation Loss: {:.3f}'.format(validationLoss),\n",
    "         '\\tVal_Accuracy: {:.2f}%'.format(validationAccuracy*100))\n",
    "          "
   ]
  },
  {
   "cell_type": "code",
   "execution_count": 73,
   "metadata": {
    "collapsed": true
   },
   "outputs": [],
   "source": [
    "def compute_cost(Z3,Y,g):\n",
    "    \"\"\"\n",
    "     Computes the cost\n",
    "    \n",
    "    Arguments:\n",
    "    Z3 -- output of forward propagation (output of the last LINEAR unit), of shape (10, number of examples)\n",
    "    Y -- \"true\" labels vector placeholder, same shape as Z3\n",
    "    \n",
    "    Returns:\n",
    "    cost - Tensor of the cost function\n",
    "    \"\"\"\n",
    "    with g.as_default():  \n",
    "        logits = Z3;\n",
    "        labels = Y;\n",
    "        cost1 = tf.reduce_mean(tf.nn.softmax_cross_entropy_with_logits(logits =logits, labels = labels));\n",
    "   \n",
    "    \n",
    "    return cost1"
   ]
  },
  {
   "cell_type": "code",
   "execution_count": 74,
   "metadata": {
    "collapsed": true
   },
   "outputs": [],
   "source": [
    "# Build Neural Network graph\n",
    "def model1(lambd,g,learning_rate_value,weight_nodes):\n",
    "    \n",
    "    with g.as_default():\n",
    "        numberOfClass = 10\n",
    "        imageSize = (28, 28)\n",
    "        features = np.prod(imageSize)\n",
    "        Input_Data,Input_Labels,keep_prob,l2_regulization=create_placeholder(features,numberOfClass,g); \n",
    "    # Placeolder for input data\n",
    "        parameters=initializer_parameters(features,weight_nodes,g); \n",
    "    # forward propogating\n",
    "        Z3=forward_propogation(parameters,Input_Data,g,keep_prob);\n",
    "    # computing the cost\n",
    "               \n",
    "        cost1=compute_cost(Z3,Input_Labels,g);\n",
    "        Total_l2_loss=(tf.nn.l2_loss(parameters[\"W1\"])+ tf.nn.l2_loss(parameters[\"W2\"])+tf.nn.l2_loss(parameters[\"W3\"]));\n",
    "        cost=tf.cond(l2_regulization>0,lambda : tf.reduce_mean(cost1+(lambd*Total_l2_loss)),lambda: cost1 );\n",
    "    # probability of outputs\n",
    "        probability=tf.nn.softmax(Z3);\n",
    "    # optimizer\n",
    "        optimizer = tf.train.AdamOptimizer(learning_rate = learning_rate_value).minimize(cost)\n",
    "    # accuracy\n",
    "        correct_prediction=tf.equal(tf.argmax(probability,axis=1),tf.argmax(Input_Labels,axis=1));\n",
    "        accuracy=tf.reduce_mean(tf.cast(correct_prediction,tf.float32));\n",
    "    \n",
    "    return accuracy,optimizer,cost,keep_prob,l2_regulization,Input_Data,Input_Labels\n",
    "    "
   ]
  },
  {
   "cell_type": "markdown",
   "metadata": {},
   "source": [
    "# Training the model"
   ]
  },
  {
   "cell_type": "code",
   "execution_count": 334,
   "metadata": {
    "collapsed": true
   },
   "outputs": [],
   "source": [
    "from tensorflow.python.framework import ops"
   ]
  },
  {
   "cell_type": "code",
   "execution_count": 76,
   "metadata": {
    "collapsed": true
   },
   "outputs": [],
   "source": [
    "def nn_model(learning_rate_value,l2_regulaizer,batch_size_value,num_epoches,keep_prob_rate,lambd):\n",
    "    num_layers=3\n",
    "    num_of_nodes=[30,30,10];\n",
    "    Learning_rate=learning_rate_value;\n",
    "    batch_size=batch_size_value;\n",
    "    num_of_epoches=num_epoches;\n",
    "    save_dir = 'C:/Users/SANYAM/Documents/mnist_dataset./save'\n",
    "    graph1 = tf.Graph()\n",
    "    accuracy,optimizer,cost,keep_prob,l2_regulization,Input_Data,Input_Labels=model1(lambd,graph1,\\\n",
    "                                                                                     learning_rate_value,num_of_nodes);\n",
    "    with tf.Session(graph=graph1) as sess:\n",
    "        sess.run(tf.global_variables_initializer())\n",
    "        Total_cost=[];\n",
    "        \n",
    "        for epoch in range(num_of_epoches):\n",
    "        # training data & validation data\n",
    "            train_x, val_x, train_y, val_y = train_test_split(processedTrainData,one_hot_trainLabel,test_size = 0.3) ;\n",
    "            num_of_example=train_x.shape[0];\n",
    "            n1=(num_of_example/batch_size);\n",
    "        # training loss\n",
    "            epoche_num=0;\n",
    "            for i in range(0,num_of_example, batch_size):\n",
    "                       \n",
    "                if (i+batch_size)>num_of_example:   \n",
    "                    trainLoss, _ ,train_accuracy= sess.run([cost, optimizer,accuracy], feed_dict = {\n",
    "                Input_Data: train_x[i:num_of_example],\n",
    "                Input_Labels:train_y[i: num_of_example],\n",
    "                keep_prob:keep_prob_rate,\n",
    "                l2_regulization:l2_regulaizer     \n",
    "                })\n",
    "                else:\n",
    "                    trainLoss, _= sess.run([cost, optimizer], feed_dict = {\n",
    "                Input_Data:  train_x[i: i+batch_size],\n",
    "                Input_Labels: train_y[i: i+batch_size],\n",
    "                 keep_prob:keep_prob_rate,\n",
    "                l2_regulization:l2_regulaizer     \n",
    "                })\n",
    "                epoche_num+=(trainLoss/n1);\n",
    "            \n",
    "        # validation loss\n",
    "            valAcc, valLoss = sess.run([accuracy, cost], feed_dict ={\n",
    "            Input_Data: val_x,\n",
    "            Input_Labels: val_y,\n",
    "             keep_prob:keep_prob_rate,\n",
    "                l2_regulization:l2_regulaizer  \n",
    "        })\n",
    "            Total_cost.append(epoche_num);\n",
    "        \n",
    "        \n",
    "        # print out\n",
    "            printResult(epoch, num_of_epoches, trainLoss, valLoss, valAcc,graph1,train_accuracy)\n",
    "        # plotting the graph\n",
    "        plt.plot(np.squeeze(Total_cost));\n",
    "        plt.ylabel('cost');\n",
    "        plt.xlabel('iterations ');\n",
    "        plt.title(\"learning_rate\"+str(Learning_rate));\n",
    "    \n",
    "        # save\n",
    "        saver = tf.train.Saver()\n",
    "        saver.save(sess, save_dir)"
   ]
  },
  {
   "cell_type": "code",
   "execution_count": 77,
   "metadata": {},
   "outputs": [
    {
     "name": "stdout",
     "output_type": "stream",
     "text": [
      "Epoch: 1/30 \tTraining Loss: 0.224 \t Training_Accuracy93.182% \tValidation Loss: 0.216 \tVal_Accuracy: 93.44%\n",
      "Epoch: 2/30 \tTraining Loss: 0.204 \t Training_Accuracy92.045% \tValidation Loss: 0.188 \tVal_Accuracy: 94.21%\n",
      "Epoch: 3/30 \tTraining Loss: 0.130 \t Training_Accuracy95.455% \tValidation Loss: 0.153 \tVal_Accuracy: 95.21%\n",
      "Epoch: 4/30 \tTraining Loss: 0.239 \t Training_Accuracy89.773% \tValidation Loss: 0.144 \tVal_Accuracy: 95.44%\n",
      "Epoch: 5/30 \tTraining Loss: 0.137 \t Training_Accuracy95.455% \tValidation Loss: 0.134 \tVal_Accuracy: 95.86%\n",
      "Epoch: 6/30 \tTraining Loss: 0.168 \t Training_Accuracy94.318% \tValidation Loss: 0.113 \tVal_Accuracy: 96.40%\n",
      "Epoch: 7/30 \tTraining Loss: 0.208 \t Training_Accuracy93.182% \tValidation Loss: 0.117 \tVal_Accuracy: 96.40%\n",
      "Epoch: 8/30 \tTraining Loss: 0.128 \t Training_Accuracy97.727% \tValidation Loss: 0.109 \tVal_Accuracy: 96.64%\n",
      "Epoch: 9/30 \tTraining Loss: 0.143 \t Training_Accuracy96.591% \tValidation Loss: 0.131 \tVal_Accuracy: 96.04%\n",
      "Epoch: 10/30 \tTraining Loss: 0.021 \t Training_Accuracy100.000% \tValidation Loss: 0.098 \tVal_Accuracy: 96.98%\n",
      "Epoch: 11/30 \tTraining Loss: 0.192 \t Training_Accuracy95.455% \tValidation Loss: 0.116 \tVal_Accuracy: 96.36%\n",
      "Epoch: 12/30 \tTraining Loss: 0.140 \t Training_Accuracy96.591% \tValidation Loss: 0.094 \tVal_Accuracy: 96.93%\n",
      "Epoch: 13/30 \tTraining Loss: 0.088 \t Training_Accuracy97.727% \tValidation Loss: 0.102 \tVal_Accuracy: 96.83%\n",
      "Epoch: 14/30 \tTraining Loss: 0.045 \t Training_Accuracy98.864% \tValidation Loss: 0.090 \tVal_Accuracy: 97.18%\n",
      "Epoch: 15/30 \tTraining Loss: 0.010 \t Training_Accuracy100.000% \tValidation Loss: 0.092 \tVal_Accuracy: 97.20%\n",
      "Epoch: 16/30 \tTraining Loss: 0.131 \t Training_Accuracy96.591% \tValidation Loss: 0.093 \tVal_Accuracy: 97.12%\n",
      "Epoch: 17/30 \tTraining Loss: 0.018 \t Training_Accuracy100.000% \tValidation Loss: 0.073 \tVal_Accuracy: 97.75%\n",
      "Epoch: 18/30 \tTraining Loss: 0.010 \t Training_Accuracy100.000% \tValidation Loss: 0.082 \tVal_Accuracy: 97.49%\n",
      "Epoch: 19/30 \tTraining Loss: 0.058 \t Training_Accuracy97.727% \tValidation Loss: 0.082 \tVal_Accuracy: 97.38%\n",
      "Epoch: 20/30 \tTraining Loss: 0.241 \t Training_Accuracy92.045% \tValidation Loss: 0.091 \tVal_Accuracy: 97.33%\n",
      "Epoch: 21/30 \tTraining Loss: 0.129 \t Training_Accuracy97.727% \tValidation Loss: 0.083 \tVal_Accuracy: 97.56%\n",
      "Epoch: 22/30 \tTraining Loss: 0.032 \t Training_Accuracy98.864% \tValidation Loss: 0.070 \tVal_Accuracy: 97.71%\n",
      "Epoch: 23/30 \tTraining Loss: 0.079 \t Training_Accuracy97.727% \tValidation Loss: 0.079 \tVal_Accuracy: 97.61%\n",
      "Epoch: 24/30 \tTraining Loss: 0.065 \t Training_Accuracy98.864% \tValidation Loss: 0.106 \tVal_Accuracy: 97.06%\n",
      "Epoch: 25/30 \tTraining Loss: 0.029 \t Training_Accuracy98.864% \tValidation Loss: 0.087 \tVal_Accuracy: 97.40%\n",
      "Epoch: 26/30 \tTraining Loss: 0.029 \t Training_Accuracy98.864% \tValidation Loss: 0.079 \tVal_Accuracy: 97.52%\n",
      "Epoch: 27/30 \tTraining Loss: 0.076 \t Training_Accuracy96.591% \tValidation Loss: 0.080 \tVal_Accuracy: 97.68%\n",
      "Epoch: 28/30 \tTraining Loss: 0.108 \t Training_Accuracy97.727% \tValidation Loss: 0.069 \tVal_Accuracy: 97.96%\n",
      "Epoch: 29/30 \tTraining Loss: 0.072 \t Training_Accuracy98.864% \tValidation Loss: 0.071 \tVal_Accuracy: 97.72%\n",
      "Epoch: 30/30 \tTraining Loss: 0.088 \t Training_Accuracy97.727% \tValidation Loss: 0.056 \tVal_Accuracy: 98.21%\n"
     ]
    },
    {
     "data": {
      "image/png": "[encoded data removed]",
      "text/plain": [
       "<matplotlib.figure.Figure at 0x711970c1d0>"
      ]
     },
     "metadata": {},
     "output_type": "display_data"
    }
   ],
   "source": [
    "nn_model(learning_rate_value=0.01,l2_regulaizer=False,batch_size_value=128,num_epoches=30,keep_prob_rate = 1.0,lambd=0.0)\n"
   ]
  },
  {
   "cell_type": "code",
   "execution_count": 80,
   "metadata": {},
   "outputs": [
    {
     "name": "stdout",
     "output_type": "stream",
     "text": [
      "[[30]]\n"
     ]
    }
   ],
   "source": [
    "a=tf.constant([1,2,3,4],shape=(1,4));\n",
    "b=tf.constant([1,2,3,4],shape=(4,1));\n",
    "c=tf.matmul(a,b);\n",
    "sess=tf.Session(config=tf.ConfigProto(log_device_placement=True))\n",
    "print(sess.run(c));"
   ]
  },
  {
   "cell_type": "code",
   "execution_count": null,
   "metadata": {
    "collapsed": true
   },
   "outputs": [],
   "source": []
  }
 ],
 "metadata": {
  "kernelspec": {
   "display_name": "Python 3",
   "language": "python",
   "name": "python3"
  },
  "language_info": {
   "codemirror_mode": {
    "name": "ipython",
    "version": 3
   },
   "file_extension": ".py",
   "mimetype": "text/x-python",
   "name": "python",
   "nbconvert_exporter": "python",
   "pygments_lexer": "ipython3",
   "version": "3.5.2"
  }
 },
 "nbformat": 4,
 "nbformat_minor": 2
}
